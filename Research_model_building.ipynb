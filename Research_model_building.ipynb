{
 "cells": [
  {
   "cell_type": "markdown",
   "id": "316c3b29",
   "metadata": {},
   "source": [
    "# Import important packages"
   ]
  },
  {
   "cell_type": "markdown",
   "id": "7323c4f6",
   "metadata": {},
   "source": [
    "We now import the important libraries for manipulating the data and bulding the machine learning pridictive models. we firstly download the TensorFlow package for building our models then import it to our notebook. for reading and manipulating our data, we import and use the pandas library. Since we will need to split our data into training and testing, we import the train_test_spit library."
   ]
  },
  {
   "cell_type": "code",
   "execution_count": 228,
   "id": "77c8e3b6",
   "metadata": {},
   "outputs": [],
   "source": [
    "#import the pandas package to perform data loading, manipulations and analysis.\n",
    "import pandas as pd;\n",
    "import matplotlib.pyplot as plt;\n",
    "from sklearn.model_selection import train_test_split\n",
    "from sklearn.linear_model import LogisticRegression\n",
    "import numpy as np\n",
    "from sklearn import metrics\n",
    "from sklearn.ensemble import RandomForestClassifier\n",
    "from sklearn import svm\n",
    "from xgboost import XGBClassifier\n",
    "from sklearn.metrics import precision_score, recall_score, f1_score, accuracy_score\n",
    "from sklearn.metrics import classification_report\n",
    "from sklearn.metrics import f1_score\n",
    "from sklearn.metrics import precision_score, recall_score, f1_score, accuracy_score\n",
    "import pickle"
   ]
  },
  {
   "cell_type": "code",
   "execution_count": null,
   "id": "9bb74050",
   "metadata": {},
   "outputs": [],
   "source": []
  },
  {
   "cell_type": "markdown",
   "id": "f9f856e2",
   "metadata": {},
   "source": [
    "# Data Loading"
   ]
  },
  {
   "cell_type": "markdown",
   "id": "84a1285d",
   "metadata": {},
   "source": [
    "We now load the data collected from the simulation which was stored in the excel file, we load this data in the pandas dataframe to manipulate it and perform data analysis processes. the data is loaded in the df variable."
   ]
  },
  {
   "cell_type": "code",
   "execution_count": 2,
   "id": "513fa6ce",
   "metadata": {},
   "outputs": [],
   "source": [
    "#data loading\n",
    "df=pd.read_excel('Research_collected_data_for_building_the_model.xlsx',index_col=False)"
   ]
  },
  {
   "cell_type": "markdown",
   "id": "30a0e386",
   "metadata": {},
   "source": [
    "We now view the data loaded in the df data frame variable."
   ]
  },
  {
   "cell_type": "code",
   "execution_count": 3,
   "id": "d65040e8",
   "metadata": {},
   "outputs": [
    {
     "data": {
      "text/html": [
       "<div>\n",
       "<style scoped>\n",
       "    .dataframe tbody tr th:only-of-type {\n",
       "        vertical-align: middle;\n",
       "    }\n",
       "\n",
       "    .dataframe tbody tr th {\n",
       "        vertical-align: top;\n",
       "    }\n",
       "\n",
       "    .dataframe thead th {\n",
       "        text-align: right;\n",
       "    }\n",
       "</style>\n",
       "<table border=\"1\" class=\"dataframe\">\n",
       "  <thead>\n",
       "    <tr style=\"text-align: right;\">\n",
       "      <th></th>\n",
       "      <th>'num_of_transmission'</th>\n",
       "      <th>'Initial_transmission'</th>\n",
       "      <th>'retransmission'</th>\n",
       "      <th>'number_of_retransmission'</th>\n",
       "      <th>'transport_block_size'</th>\n",
       "      <th>'bits_to_transmit'</th>\n",
       "      <th>'coded_data'</th>\n",
       "      <th>'modulated_data'</th>\n",
       "      <th>'SNR'</th>\n",
       "      <th>'channel_data'</th>\n",
       "      <th>'demodulated_data'</th>\n",
       "      <th>'decoded_data'</th>\n",
       "      <th>'block_crc'</th>\n",
       "      <th>'Acknoledgement'</th>\n",
       "      <th>'ACK/NACK'</th>\n",
       "    </tr>\n",
       "  </thead>\n",
       "  <tbody>\n",
       "    <tr>\n",
       "      <th>0</th>\n",
       "      <td>1</td>\n",
       "      <td>1</td>\n",
       "      <td>0</td>\n",
       "      <td>0</td>\n",
       "      <td>32</td>\n",
       "      <td>'[1 1 0 1 1 0 0 1 1 1 0 1 1 0 1 0 0 1 1 1 1 0 ...</td>\n",
       "      <td>'''[1 0 1 0 1 0 0 1 1 1 1 0 1 1 1 0 0 1 0 0 1 ...</td>\n",
       "      <td>'''[0.9487+0.3162i -0.9487+0.3162i -0.3162-0.9...</td>\n",
       "      <td>-11.153851</td>\n",
       "      <td>'''[-1.1186+0.0784i -8.4676+4.2393i 3.357-2.42...</td>\n",
       "      <td>'''[-1.11856999500713 -0.0783578035969243 0.48...</td>\n",
       "      <td>'[1 1 0 1 1 0 0 1 1 1 0 1 1 0 1 0 0 1 1 1 1 0 ...</td>\n",
       "      <td>False</td>\n",
       "      <td>1</td>\n",
       "      <td>'ACK'</td>\n",
       "    </tr>\n",
       "    <tr>\n",
       "      <th>1</th>\n",
       "      <td>2</td>\n",
       "      <td>1</td>\n",
       "      <td>0</td>\n",
       "      <td>0</td>\n",
       "      <td>32</td>\n",
       "      <td>'[1 1 1 0 0 0 0 1 0 1 1 1 0 0 0 1 1 0 0 0 1 1 ...</td>\n",
       "      <td>'''[0 0 1 0 1 1 1 1 0 0 1 1 0 0 1 0 0 1 0 1 0 ...</td>\n",
       "      <td>'''[-0.9487+0.3162i -0.3162-0.3162i 0.3162+0.3...</td>\n",
       "      <td>-2.137236</td>\n",
       "      <td>'''[-0.5844+0.1459i -1.3557-1.726i 0.1223-0.28...</td>\n",
       "      <td>'''[-0.584367570459123 -0.145923308212743 -0.0...</td>\n",
       "      <td>'[1 1 1 0 0 0 0 1 0 1 1 1 0 0 0 1 1 0 0 0 1 1 ...</td>\n",
       "      <td>False</td>\n",
       "      <td>1</td>\n",
       "      <td>'ACK'</td>\n",
       "    </tr>\n",
       "    <tr>\n",
       "      <th>2</th>\n",
       "      <td>3</td>\n",
       "      <td>1</td>\n",
       "      <td>0</td>\n",
       "      <td>0</td>\n",
       "      <td>32</td>\n",
       "      <td>'[1 0 0 0 0 1 0 1 0 0 0 1 1 1 1 1 1 0 0 1 1 1 ...</td>\n",
       "      <td>'''[0 0 1 0 1 1 1 1 0 1 0 0 1 1 0 0 0 1 1 0 0 ...</td>\n",
       "      <td>'''[-0.9487+0.3162i -0.3162-0.3162i 0.9487-0.9...</td>\n",
       "      <td>-21.205587</td>\n",
       "      <td>'''[-0.9688+2.1498i -3.491-8.8376i -8.5119+3.8...</td>\n",
       "      <td>'''[-0.968800179363594 -2.1498137950507 0.3363...</td>\n",
       "      <td>'[1 0 1 0 1 1 0 1 0 1 0 1 1 1 1 1 1 0 0 0 1 0 ...</td>\n",
       "      <td>True</td>\n",
       "      <td>0</td>\n",
       "      <td>'NACK'</td>\n",
       "    </tr>\n",
       "    <tr>\n",
       "      <th>3</th>\n",
       "      <td>3</td>\n",
       "      <td>0</td>\n",
       "      <td>1</td>\n",
       "      <td>1</td>\n",
       "      <td>32</td>\n",
       "      <td>'[1 0 0 0 0 1 0 1 0 0 0 1 1 1 1 1 1 0 0 1 1 1 ...</td>\n",
       "      <td>'''[1 0 1 1 0 0 1 1 1 1 0 1 0 0 0 0 0 0 0 1 0 ...</td>\n",
       "      <td>'''[0.9487+0.9487i 0.3162+0.3162i -0.9487-0.31...</td>\n",
       "      <td>-21.205587</td>\n",
       "      <td>'''[-11.3262+9.5143i 2.7073-13.3458i 7.908-5.5...</td>\n",
       "      <td>'''[-11.3261651698457 -9.51426725704367 10.693...</td>\n",
       "      <td>'[1 0 0 0 0 1 0 1 0 1 1 1 1 1 1 1 0 0 1 1 1 0 ...</td>\n",
       "      <td>True</td>\n",
       "      <td>0</td>\n",
       "      <td>'NACK'</td>\n",
       "    </tr>\n",
       "    <tr>\n",
       "      <th>4</th>\n",
       "      <td>3</td>\n",
       "      <td>0</td>\n",
       "      <td>1</td>\n",
       "      <td>2</td>\n",
       "      <td>32</td>\n",
       "      <td>'[1 0 0 0 0 1 0 1 0 0 0 1 1 1 1 1 1 0 0 1 1 1 ...</td>\n",
       "      <td>'''[1 1 1 1 0 0 0 1 1 1 1 0 1 1 0 1 0 0 0 0 0 ...</td>\n",
       "      <td>'''[0.9487-0.9487i 0.9487+0.3162i -0.3162-0.94...</td>\n",
       "      <td>-21.205587</td>\n",
       "      <td>'''[-5.5593-3.0496i 10.1895+8.0987i -9.0316-3....</td>\n",
       "      <td>'''[-5.55926575924465 3.049574135715 4.9268102...</td>\n",
       "      <td>'[1 0 0 0 0 1 0 1 0 0 0 0 0 1 1 0 1 1 0 1 1 1 ...</td>\n",
       "      <td>True</td>\n",
       "      <td>0</td>\n",
       "      <td>'NACK'</td>\n",
       "    </tr>\n",
       "    <tr>\n",
       "      <th>...</th>\n",
       "      <td>...</td>\n",
       "      <td>...</td>\n",
       "      <td>...</td>\n",
       "      <td>...</td>\n",
       "      <td>...</td>\n",
       "      <td>...</td>\n",
       "      <td>...</td>\n",
       "      <td>...</td>\n",
       "      <td>...</td>\n",
       "      <td>...</td>\n",
       "      <td>...</td>\n",
       "      <td>...</td>\n",
       "      <td>...</td>\n",
       "      <td>...</td>\n",
       "      <td>...</td>\n",
       "    </tr>\n",
       "    <tr>\n",
       "      <th>9690</th>\n",
       "      <td>5998</td>\n",
       "      <td>1</td>\n",
       "      <td>0</td>\n",
       "      <td>0</td>\n",
       "      <td>256</td>\n",
       "      <td>'''[1 1 0 0 0 1 1 0 1 0 1 1 1 1 0 0 1 0 0 1 1 ...</td>\n",
       "      <td>'''[0 1 0 0 1 1 0 1 0 1 0 1 0 0 1 0 0 0 1 1 0 ...</td>\n",
       "      <td>'''[-0.3162-0.3162i -0.9487-0.3162i 0.9487-0.3...</td>\n",
       "      <td>15.126483</td>\n",
       "      <td>'''[-0.067-0.4535i -1.0772-0.3193i 0.9451-0.18...</td>\n",
       "      <td>'''[-0.0669967237952275 0.453476472106764 -0.5...</td>\n",
       "      <td>'''[1 1 0 0 0 1 1 0 1 0 1 1 1 1 0 0 1 0 0 1 1 ...</td>\n",
       "      <td>False</td>\n",
       "      <td>1</td>\n",
       "      <td>'ACK'</td>\n",
       "    </tr>\n",
       "    <tr>\n",
       "      <th>9691</th>\n",
       "      <td>5999</td>\n",
       "      <td>1</td>\n",
       "      <td>0</td>\n",
       "      <td>0</td>\n",
       "      <td>256</td>\n",
       "      <td>'''[0 1 0 0 0 1 1 0 1 1 0 0 1 0 1 1 1 0 0 1 0 ...</td>\n",
       "      <td>'''[0 0 1 0 1 1 0 0 1 0 1 1 0 1 0 0 0 1 0 0 0 ...</td>\n",
       "      <td>'''[-0.9487+0.3162i -0.9487-0.9487i -0.3162+0....</td>\n",
       "      <td>9.787344</td>\n",
       "      <td>'''[-0.869+0.7203i -1.0129-1.4799i -0.7796+0.4...</td>\n",
       "      <td>'''[-0.869040296624749 -0.720284280133994 0.23...</td>\n",
       "      <td>'''[0 1 0 0 0 1 1 0 1 1 0 0 1 0 1 1 1 0 0 1 0 ...</td>\n",
       "      <td>False</td>\n",
       "      <td>1</td>\n",
       "      <td>'ACK'</td>\n",
       "    </tr>\n",
       "    <tr>\n",
       "      <th>9692</th>\n",
       "      <td>6000</td>\n",
       "      <td>1</td>\n",
       "      <td>0</td>\n",
       "      <td>0</td>\n",
       "      <td>256</td>\n",
       "      <td>'''[0 1 0 0 1 1 1 1 0 0 0 1 0 0 1 1 0 1 0 1 0 ...</td>\n",
       "      <td>'''[1 1 0 0 1 1 1 0 0 0 1 1 1 1 0 0 1 1 0 0 0 ...</td>\n",
       "      <td>'''[0.3162-0.3162i -0.3162-0.9487i 0.3162+0.31...</td>\n",
       "      <td>-12.478976</td>\n",
       "      <td>'''[0.0828-0.7845i -5.6671+2.8703i -4.0718+1.1...</td>\n",
       "      <td>'''[0.0827927999277413 0.784486103770216 -0.54...</td>\n",
       "      <td>'''[0 1 0 0 1 1 1 1 0 0 1 1 1 0 1 0 1 0 0 1 0 ...</td>\n",
       "      <td>True</td>\n",
       "      <td>0</td>\n",
       "      <td>'NACK'</td>\n",
       "    </tr>\n",
       "    <tr>\n",
       "      <th>9693</th>\n",
       "      <td>6000</td>\n",
       "      <td>0</td>\n",
       "      <td>1</td>\n",
       "      <td>1</td>\n",
       "      <td>256</td>\n",
       "      <td>'''[0 1 0 0 1 1 1 1 0 0 0 1 0 0 1 1 0 1 0 1 0 ...</td>\n",
       "      <td>'''[1 1 0 1 0 0 0 0 0 1 0 1 0 0 0 1 0 0 0 1 1 ...</td>\n",
       "      <td>'''[0.3162-0.9487i 0.9487+0.9487i 0.9487-0.316...</td>\n",
       "      <td>-12.478976</td>\n",
       "      <td>'''[-2.4219-0.7954i 1.386+0.8291i -1.3689-6.13...</td>\n",
       "      <td>'''[-2.42189835320053 0.795423786045274 1.7894...</td>\n",
       "      <td>'''[0 1 0 0 1 1 1 1 0 0 0 1 1 0 1 1 0 1 0 1 0 ...</td>\n",
       "      <td>True</td>\n",
       "      <td>0</td>\n",
       "      <td>'NACK'</td>\n",
       "    </tr>\n",
       "    <tr>\n",
       "      <th>9694</th>\n",
       "      <td>6000</td>\n",
       "      <td>0</td>\n",
       "      <td>1</td>\n",
       "      <td>2</td>\n",
       "      <td>256</td>\n",
       "      <td>'''[0 1 0 0 1 1 1 1 0 0 0 1 0 0 1 1 0 1 0 1 0 ...</td>\n",
       "      <td>'''[0 1 1 0 1 0 0 1 0 0 1 0 1 0 0 0 1 0 1 1 0 ...</td>\n",
       "      <td>'''[-0.9487-0.3162i -0.9487+0.3162i 0.3162+0.9...</td>\n",
       "      <td>-12.478976</td>\n",
       "      <td>'''[-0.219+0.4823i -0.801+0.1381i 7.4928+1.972...</td>\n",
       "      <td>'''[-0.219043710993295 -0.482320544862696 -0.4...</td>\n",
       "      <td>'''[0 1 0 0 1 1 1 1 0 0 0 1 0 0 1 1 0 1 0 1 0 ...</td>\n",
       "      <td>False</td>\n",
       "      <td>1</td>\n",
       "      <td>'ACK'</td>\n",
       "    </tr>\n",
       "  </tbody>\n",
       "</table>\n",
       "<p>9695 rows × 15 columns</p>\n",
       "</div>"
      ],
      "text/plain": [
       "      'num_of_transmission'  'Initial_transmission'  'retransmission'  \\\n",
       "0                         1                       1                 0   \n",
       "1                         2                       1                 0   \n",
       "2                         3                       1                 0   \n",
       "3                         3                       0                 1   \n",
       "4                         3                       0                 1   \n",
       "...                     ...                     ...               ...   \n",
       "9690                   5998                       1                 0   \n",
       "9691                   5999                       1                 0   \n",
       "9692                   6000                       1                 0   \n",
       "9693                   6000                       0                 1   \n",
       "9694                   6000                       0                 1   \n",
       "\n",
       "      'number_of_retransmission'  'transport_block_size'  \\\n",
       "0                              0                      32   \n",
       "1                              0                      32   \n",
       "2                              0                      32   \n",
       "3                              1                      32   \n",
       "4                              2                      32   \n",
       "...                          ...                     ...   \n",
       "9690                           0                     256   \n",
       "9691                           0                     256   \n",
       "9692                           0                     256   \n",
       "9693                           1                     256   \n",
       "9694                           2                     256   \n",
       "\n",
       "                                     'bits_to_transmit'  \\\n",
       "0     '[1 1 0 1 1 0 0 1 1 1 0 1 1 0 1 0 0 1 1 1 1 0 ...   \n",
       "1     '[1 1 1 0 0 0 0 1 0 1 1 1 0 0 0 1 1 0 0 0 1 1 ...   \n",
       "2     '[1 0 0 0 0 1 0 1 0 0 0 1 1 1 1 1 1 0 0 1 1 1 ...   \n",
       "3     '[1 0 0 0 0 1 0 1 0 0 0 1 1 1 1 1 1 0 0 1 1 1 ...   \n",
       "4     '[1 0 0 0 0 1 0 1 0 0 0 1 1 1 1 1 1 0 0 1 1 1 ...   \n",
       "...                                                 ...   \n",
       "9690  '''[1 1 0 0 0 1 1 0 1 0 1 1 1 1 0 0 1 0 0 1 1 ...   \n",
       "9691  '''[0 1 0 0 0 1 1 0 1 1 0 0 1 0 1 1 1 0 0 1 0 ...   \n",
       "9692  '''[0 1 0 0 1 1 1 1 0 0 0 1 0 0 1 1 0 1 0 1 0 ...   \n",
       "9693  '''[0 1 0 0 1 1 1 1 0 0 0 1 0 0 1 1 0 1 0 1 0 ...   \n",
       "9694  '''[0 1 0 0 1 1 1 1 0 0 0 1 0 0 1 1 0 1 0 1 0 ...   \n",
       "\n",
       "                                           'coded_data'  \\\n",
       "0     '''[1 0 1 0 1 0 0 1 1 1 1 0 1 1 1 0 0 1 0 0 1 ...   \n",
       "1     '''[0 0 1 0 1 1 1 1 0 0 1 1 0 0 1 0 0 1 0 1 0 ...   \n",
       "2     '''[0 0 1 0 1 1 1 1 0 1 0 0 1 1 0 0 0 1 1 0 0 ...   \n",
       "3     '''[1 0 1 1 0 0 1 1 1 1 0 1 0 0 0 0 0 0 0 1 0 ...   \n",
       "4     '''[1 1 1 1 0 0 0 1 1 1 1 0 1 1 0 1 0 0 0 0 0 ...   \n",
       "...                                                 ...   \n",
       "9690  '''[0 1 0 0 1 1 0 1 0 1 0 1 0 0 1 0 0 0 1 1 0 ...   \n",
       "9691  '''[0 0 1 0 1 1 0 0 1 0 1 1 0 1 0 0 0 1 0 0 0 ...   \n",
       "9692  '''[1 1 0 0 1 1 1 0 0 0 1 1 1 1 0 0 1 1 0 0 0 ...   \n",
       "9693  '''[1 1 0 1 0 0 0 0 0 1 0 1 0 0 0 1 0 0 0 1 1 ...   \n",
       "9694  '''[0 1 1 0 1 0 0 1 0 0 1 0 1 0 0 0 1 0 1 1 0 ...   \n",
       "\n",
       "                                       'modulated_data'      'SNR'  \\\n",
       "0     '''[0.9487+0.3162i -0.9487+0.3162i -0.3162-0.9... -11.153851   \n",
       "1     '''[-0.9487+0.3162i -0.3162-0.3162i 0.3162+0.3...  -2.137236   \n",
       "2     '''[-0.9487+0.3162i -0.3162-0.3162i 0.9487-0.9... -21.205587   \n",
       "3     '''[0.9487+0.9487i 0.3162+0.3162i -0.9487-0.31... -21.205587   \n",
       "4     '''[0.9487-0.9487i 0.9487+0.3162i -0.3162-0.94... -21.205587   \n",
       "...                                                 ...        ...   \n",
       "9690  '''[-0.3162-0.3162i -0.9487-0.3162i 0.9487-0.3...  15.126483   \n",
       "9691  '''[-0.9487+0.3162i -0.9487-0.9487i -0.3162+0....   9.787344   \n",
       "9692  '''[0.3162-0.3162i -0.3162-0.9487i 0.3162+0.31... -12.478976   \n",
       "9693  '''[0.3162-0.9487i 0.9487+0.9487i 0.9487-0.316... -12.478976   \n",
       "9694  '''[-0.9487-0.3162i -0.9487+0.3162i 0.3162+0.9... -12.478976   \n",
       "\n",
       "                                         'channel_data'  \\\n",
       "0     '''[-1.1186+0.0784i -8.4676+4.2393i 3.357-2.42...   \n",
       "1     '''[-0.5844+0.1459i -1.3557-1.726i 0.1223-0.28...   \n",
       "2     '''[-0.9688+2.1498i -3.491-8.8376i -8.5119+3.8...   \n",
       "3     '''[-11.3262+9.5143i 2.7073-13.3458i 7.908-5.5...   \n",
       "4     '''[-5.5593-3.0496i 10.1895+8.0987i -9.0316-3....   \n",
       "...                                                 ...   \n",
       "9690  '''[-0.067-0.4535i -1.0772-0.3193i 0.9451-0.18...   \n",
       "9691  '''[-0.869+0.7203i -1.0129-1.4799i -0.7796+0.4...   \n",
       "9692  '''[0.0828-0.7845i -5.6671+2.8703i -4.0718+1.1...   \n",
       "9693  '''[-2.4219-0.7954i 1.386+0.8291i -1.3689-6.13...   \n",
       "9694  '''[-0.219+0.4823i -0.801+0.1381i 7.4928+1.972...   \n",
       "\n",
       "                                     'demodulated_data'  \\\n",
       "0     '''[-1.11856999500713 -0.0783578035969243 0.48...   \n",
       "1     '''[-0.584367570459123 -0.145923308212743 -0.0...   \n",
       "2     '''[-0.968800179363594 -2.1498137950507 0.3363...   \n",
       "3     '''[-11.3261651698457 -9.51426725704367 10.693...   \n",
       "4     '''[-5.55926575924465 3.049574135715 4.9268102...   \n",
       "...                                                 ...   \n",
       "9690  '''[-0.0669967237952275 0.453476472106764 -0.5...   \n",
       "9691  '''[-0.869040296624749 -0.720284280133994 0.23...   \n",
       "9692  '''[0.0827927999277413 0.784486103770216 -0.54...   \n",
       "9693  '''[-2.42189835320053 0.795423786045274 1.7894...   \n",
       "9694  '''[-0.219043710993295 -0.482320544862696 -0.4...   \n",
       "\n",
       "                                         'decoded_data'  'block_crc'  \\\n",
       "0     '[1 1 0 1 1 0 0 1 1 1 0 1 1 0 1 0 0 1 1 1 1 0 ...        False   \n",
       "1     '[1 1 1 0 0 0 0 1 0 1 1 1 0 0 0 1 1 0 0 0 1 1 ...        False   \n",
       "2     '[1 0 1 0 1 1 0 1 0 1 0 1 1 1 1 1 1 0 0 0 1 0 ...         True   \n",
       "3     '[1 0 0 0 0 1 0 1 0 1 1 1 1 1 1 1 0 0 1 1 1 0 ...         True   \n",
       "4     '[1 0 0 0 0 1 0 1 0 0 0 0 0 1 1 0 1 1 0 1 1 1 ...         True   \n",
       "...                                                 ...          ...   \n",
       "9690  '''[1 1 0 0 0 1 1 0 1 0 1 1 1 1 0 0 1 0 0 1 1 ...        False   \n",
       "9691  '''[0 1 0 0 0 1 1 0 1 1 0 0 1 0 1 1 1 0 0 1 0 ...        False   \n",
       "9692  '''[0 1 0 0 1 1 1 1 0 0 1 1 1 0 1 0 1 0 0 1 0 ...         True   \n",
       "9693  '''[0 1 0 0 1 1 1 1 0 0 0 1 1 0 1 1 0 1 0 1 0 ...         True   \n",
       "9694  '''[0 1 0 0 1 1 1 1 0 0 0 1 0 0 1 1 0 1 0 1 0 ...        False   \n",
       "\n",
       "      'Acknoledgement' 'ACK/NACK'  \n",
       "0                    1      'ACK'  \n",
       "1                    1      'ACK'  \n",
       "2                    0     'NACK'  \n",
       "3                    0     'NACK'  \n",
       "4                    0     'NACK'  \n",
       "...                ...        ...  \n",
       "9690                 1      'ACK'  \n",
       "9691                 1      'ACK'  \n",
       "9692                 0     'NACK'  \n",
       "9693                 0     'NACK'  \n",
       "9694                 1      'ACK'  \n",
       "\n",
       "[9695 rows x 15 columns]"
      ]
     },
     "execution_count": 3,
     "metadata": {},
     "output_type": "execute_result"
    }
   ],
   "source": [
    "df"
   ]
  },
  {
   "cell_type": "markdown",
   "id": "bcc9b004",
   "metadata": {},
   "source": [
    "#  Exploratory Data Analysis (EDA)"
   ]
  },
  {
   "cell_type": "markdown",
   "id": "7c74f42d",
   "metadata": {},
   "source": [
    "To understand our data we perform the exploratory data analysis (EDA), we firstly check the columns of our data generated during the simulations as shown in the code below."
   ]
  },
  {
   "cell_type": "code",
   "execution_count": 4,
   "id": "443dce8a",
   "metadata": {},
   "outputs": [
    {
     "data": {
      "text/plain": [
       "'num_of_transmission'           int64\n",
       "'Initial_transmission'          int64\n",
       "'retransmission'                int64\n",
       "'number_of_retransmission'      int64\n",
       "'transport_block_size'          int64\n",
       "'bits_to_transmit'             object\n",
       "'coded_data'                   object\n",
       "'modulated_data'               object\n",
       "'SNR'                         float64\n",
       "'channel_data'                 object\n",
       "'demodulated_data'             object\n",
       "'decoded_data'                 object\n",
       "'block_crc'                      bool\n",
       "'Acknoledgement'                int64\n",
       "'ACK/NACK'                     object\n",
       "dtype: object"
      ]
     },
     "execution_count": 4,
     "metadata": {},
     "output_type": "execute_result"
    }
   ],
   "source": [
    "df.dtypes"
   ]
  },
  {
   "cell_type": "markdown",
   "id": "770170dc",
   "metadata": {},
   "source": [
    "From the code above, we can see that our data have 15 columns:\n",
    "\n",
    "1) num_of_transmission: which indicates the number of new transmission without including or counting the retransmission.\n",
    "\n",
    "2) Initial_transmission: indicates whether the current transmission is the initial transmission (presented by 1) or the retransmission (presented by 0) \n",
    "\n",
    "3) retransmission: indicates whether the current transmission is the retransmission (presented by 1) of the previously nagatively-acknowledged transmission \n",
    "\n",
    "4) number_of_retransmission: presents the number of retransmission for a failed transmission.\n",
    "\n",
    "5) transport_block_size: is the number of bits or the size of the block transmitted for each transmission.\n",
    "\n",
    "6) bits_to_transmit: is the actual data to be transmitted, is in the form of binary numbers\n",
    "\n",
    "7) coded_data: is the encoded data generated by the turbo decoder after passing the actual data to the turbo decoder,it has the CRC added to it for error corrections \n",
    "               and detection, it is in the form of binary numbers.\n",
    "\n",
    "8) modulated_data: is the data generated by the modulator after passing the encoded data to the 16QAM modulator, the data is the form of complex numbers.\n",
    "\n",
    "9) SNR: is the noise added to the channel during the transmission of data from sender to the channel.\n",
    "\n",
    "10) channel_data: is the data transmitted to the receiver and generated by the channel after passing the modulated data to the channel. This data is in the form of\n",
    "                  complex numbers with some noise added to it.\n",
    "\n",
    "11) demodulated_data: is the demodulated data, which is generated by the 16QAM demodulator on the receiver. this data will is passed to the decoder after being\n",
    "                      demodulated\n",
    "\n",
    "12) decoded_data: Is the data generated by the turbo decoder, the sender use this data and the CRC in this data to check if any error occured during the transmission\n",
    "\n",
    "13) block_crc: is the CRC value, used to determine if an error have occured during the transmission of data. presented by true if error have occured and false if not.\n",
    "\n",
    "14) Acknoledgement: presents  whether the transmission was successful or not, 1 present successful transmission and 0 presents unsuccessful transmission and re\n",
    "                    questing  the retransmission of packets\n",
    "\n",
    "15) ACK/NACK: presents the feedback sent to the transmitter for each transmission. NACK presents unssucessful transmission requesting the retransmission, ACK presents\n",
    "              successful transmission and the TIMEOUT presents unssuccessful transmission but does not require the retransmission because the maximum number of retransmission is reached."
   ]
  },
  {
   "cell_type": "markdown",
   "id": "50e6d713",
   "metadata": {},
   "source": [
    "We now look at the information about our data."
   ]
  },
  {
   "cell_type": "markdown",
   "id": "9ef16899",
   "metadata": {},
   "source": [
    "from the output of the code below, we can see that there are 9695 total transmission made during the simulations, these also includes the number of the retransmitted data"
   ]
  },
  {
   "cell_type": "code",
   "execution_count": 5,
   "id": "c464e2d9",
   "metadata": {},
   "outputs": [
    {
     "name": "stdout",
     "output_type": "stream",
     "text": [
      "9695\n"
     ]
    }
   ],
   "source": [
    "total_number_of_transmission=df.count()[0];\n",
    "print(total_number_of_transmission);\n"
   ]
  },
  {
   "cell_type": "markdown",
   "id": "47b6d7f8",
   "metadata": {},
   "source": [
    "The output of the code below display the total number of failed initial transmission which is 4390, it does not include the retransission. "
   ]
  },
  {
   "cell_type": "code",
   "execution_count": 6,
   "id": "a7cec94a",
   "metadata": {},
   "outputs": [
    {
     "data": {
      "text/plain": [
       "1610"
      ]
     },
     "execution_count": 6,
     "metadata": {},
     "output_type": "execute_result"
    }
   ],
   "source": [
    "total_failed_initial_transmission=df.loc[(df[\"'Acknoledgement'\"] ==0) & (df[\"'Initial_transmission'\"] == 1)]\n",
    "total_failed_initial_transmission[\"'num_of_transmission'\"].count()"
   ]
  },
  {
   "cell_type": "markdown",
   "id": "2af9f5e6",
   "metadata": {},
   "source": [
    "The output of the code below shows the total of transmissions that were successfully transmitted withot any retransmission."
   ]
  },
  {
   "cell_type": "code",
   "execution_count": 7,
   "id": "015ffe24",
   "metadata": {},
   "outputs": [
    {
     "data": {
      "text/plain": [
       "4390"
      ]
     },
     "execution_count": 7,
     "metadata": {},
     "output_type": "execute_result"
    }
   ],
   "source": [
    "total_successful_initial_transmission=df.loc[(df[\"'Acknoledgement'\"] ==1) & (df[\"'Initial_transmission'\"] == 1)]\n",
    "total_successful_initial_transmission[\"'num_of_transmission'\"].count()"
   ]
  },
  {
   "cell_type": "code",
   "execution_count": 43,
   "id": "0c531786",
   "metadata": {},
   "outputs": [
    {
     "data": {
      "text/plain": [
       "4381"
      ]
     },
     "execution_count": 43,
     "metadata": {},
     "output_type": "execute_result"
    }
   ],
   "source": [
    "total_failed_transmission=df.loc[(df[\"'Acknoledgement'\"] ==0)]\n",
    "total_failed_transmission[\"'Acknoledgement'\"].count()"
   ]
  },
  {
   "cell_type": "code",
   "execution_count": 48,
   "id": "cbdf0641",
   "metadata": {},
   "outputs": [
    {
     "name": "stdout",
     "output_type": "stream",
     "text": [
      "6000\n"
     ]
    }
   ],
   "source": [
    "total_transmission=6000\n",
    "print(total_transmission);"
   ]
  },
  {
   "cell_type": "code",
   "execution_count": 55,
   "id": "71fe632d",
   "metadata": {},
   "outputs": [
    {
     "name": "stdout",
     "output_type": "stream",
     "text": [
      "924\n"
     ]
    }
   ],
   "source": [
    "total_successful_retransmission=df.loc[(df[\"'Acknoledgement'\"] ==1) & (df[\"'retransmission'\"] == 1)]\n",
    "print(total_successful_retransmission[\"'retransmission'\"].count())"
   ]
  },
  {
   "cell_type": "code",
   "execution_count": 62,
   "id": "2abba209",
   "metadata": {},
   "outputs": [
    {
     "data": {
      "text/plain": [
       "'number_of_retransmission'\n",
       "0    4390\n",
       "1     490\n",
       "2     155\n",
       "3     279\n",
       "Name: 'number_of_retransmission', dtype: int64"
      ]
     },
     "execution_count": 62,
     "metadata": {},
     "output_type": "execute_result"
    }
   ],
   "source": [
    "successful_transmission=df.loc[(df[\"'Acknoledgement'\"] ==1)]\n",
    "successful_transmission.groupby([\"'number_of_retransmission'\"])[\"'number_of_retransmission'\"].count()"
   ]
  },
  {
   "cell_type": "markdown",
   "id": "94663729",
   "metadata": {},
   "source": [
    "we now look at the relationships between various features that can help us to build the models. we have two tables acquired during the simulation to identify the relationship betwee the SNR, the packet size and the acknowledgment"
   ]
  },
  {
   "cell_type": "markdown",
   "id": "c22ae7cf",
   "metadata": {},
   "source": [
    "## SNR analysis"
   ]
  },
  {
   "cell_type": "code",
   "execution_count": 12,
   "id": "2633c2f4",
   "metadata": {},
   "outputs": [],
   "source": [
    "df_SNR=pd.read_excel('SNR_data.xlsx')"
   ]
  },
  {
   "cell_type": "code",
   "execution_count": 13,
   "id": "ec88ccfc",
   "metadata": {},
   "outputs": [
    {
     "data": {
      "text/html": [
       "<div>\n",
       "<style scoped>\n",
       "    .dataframe tbody tr th:only-of-type {\n",
       "        vertical-align: middle;\n",
       "    }\n",
       "\n",
       "    .dataframe tbody tr th {\n",
       "        vertical-align: top;\n",
       "    }\n",
       "\n",
       "    .dataframe thead th {\n",
       "        text-align: right;\n",
       "    }\n",
       "</style>\n",
       "<table border=\"1\" class=\"dataframe\">\n",
       "  <thead>\n",
       "    <tr style=\"text-align: right;\">\n",
       "      <th></th>\n",
       "      <th>SNR</th>\n",
       "      <th>Acknoledgement</th>\n",
       "      <th>ACK</th>\n",
       "    </tr>\n",
       "  </thead>\n",
       "  <tbody>\n",
       "    <tr>\n",
       "      <th>0</th>\n",
       "      <td>-20</td>\n",
       "      <td>0</td>\n",
       "      <td>4</td>\n",
       "    </tr>\n",
       "    <tr>\n",
       "      <th>1</th>\n",
       "      <td>-18</td>\n",
       "      <td>0</td>\n",
       "      <td>4</td>\n",
       "    </tr>\n",
       "    <tr>\n",
       "      <th>2</th>\n",
       "      <td>-16</td>\n",
       "      <td>0</td>\n",
       "      <td>4</td>\n",
       "    </tr>\n",
       "    <tr>\n",
       "      <th>3</th>\n",
       "      <td>-14</td>\n",
       "      <td>0</td>\n",
       "      <td>4</td>\n",
       "    </tr>\n",
       "    <tr>\n",
       "      <th>4</th>\n",
       "      <td>-12</td>\n",
       "      <td>0</td>\n",
       "      <td>4</td>\n",
       "    </tr>\n",
       "    <tr>\n",
       "      <th>5</th>\n",
       "      <td>-10</td>\n",
       "      <td>0</td>\n",
       "      <td>2</td>\n",
       "    </tr>\n",
       "    <tr>\n",
       "      <th>6</th>\n",
       "      <td>-10</td>\n",
       "      <td>1</td>\n",
       "      <td>1</td>\n",
       "    </tr>\n",
       "    <tr>\n",
       "      <th>7</th>\n",
       "      <td>-8</td>\n",
       "      <td>0</td>\n",
       "      <td>1</td>\n",
       "    </tr>\n",
       "    <tr>\n",
       "      <th>8</th>\n",
       "      <td>-8</td>\n",
       "      <td>1</td>\n",
       "      <td>1</td>\n",
       "    </tr>\n",
       "    <tr>\n",
       "      <th>9</th>\n",
       "      <td>-6</td>\n",
       "      <td>0</td>\n",
       "      <td>1</td>\n",
       "    </tr>\n",
       "    <tr>\n",
       "      <th>10</th>\n",
       "      <td>-6</td>\n",
       "      <td>1</td>\n",
       "      <td>1</td>\n",
       "    </tr>\n",
       "    <tr>\n",
       "      <th>11</th>\n",
       "      <td>-4</td>\n",
       "      <td>1</td>\n",
       "      <td>1</td>\n",
       "    </tr>\n",
       "    <tr>\n",
       "      <th>12</th>\n",
       "      <td>-2</td>\n",
       "      <td>1</td>\n",
       "      <td>1</td>\n",
       "    </tr>\n",
       "    <tr>\n",
       "      <th>13</th>\n",
       "      <td>0</td>\n",
       "      <td>1</td>\n",
       "      <td>1</td>\n",
       "    </tr>\n",
       "    <tr>\n",
       "      <th>14</th>\n",
       "      <td>2</td>\n",
       "      <td>1</td>\n",
       "      <td>1</td>\n",
       "    </tr>\n",
       "    <tr>\n",
       "      <th>15</th>\n",
       "      <td>4</td>\n",
       "      <td>1</td>\n",
       "      <td>1</td>\n",
       "    </tr>\n",
       "    <tr>\n",
       "      <th>16</th>\n",
       "      <td>6</td>\n",
       "      <td>1</td>\n",
       "      <td>1</td>\n",
       "    </tr>\n",
       "    <tr>\n",
       "      <th>17</th>\n",
       "      <td>8</td>\n",
       "      <td>1</td>\n",
       "      <td>1</td>\n",
       "    </tr>\n",
       "    <tr>\n",
       "      <th>18</th>\n",
       "      <td>10</td>\n",
       "      <td>1</td>\n",
       "      <td>1</td>\n",
       "    </tr>\n",
       "    <tr>\n",
       "      <th>19</th>\n",
       "      <td>12</td>\n",
       "      <td>1</td>\n",
       "      <td>1</td>\n",
       "    </tr>\n",
       "    <tr>\n",
       "      <th>20</th>\n",
       "      <td>14</td>\n",
       "      <td>1</td>\n",
       "      <td>1</td>\n",
       "    </tr>\n",
       "    <tr>\n",
       "      <th>21</th>\n",
       "      <td>16</td>\n",
       "      <td>1</td>\n",
       "      <td>1</td>\n",
       "    </tr>\n",
       "    <tr>\n",
       "      <th>22</th>\n",
       "      <td>18</td>\n",
       "      <td>1</td>\n",
       "      <td>1</td>\n",
       "    </tr>\n",
       "    <tr>\n",
       "      <th>23</th>\n",
       "      <td>20</td>\n",
       "      <td>1</td>\n",
       "      <td>1</td>\n",
       "    </tr>\n",
       "  </tbody>\n",
       "</table>\n",
       "</div>"
      ],
      "text/plain": [
       "    SNR  Acknoledgement  ACK\n",
       "0   -20               0    4\n",
       "1   -18               0    4\n",
       "2   -16               0    4\n",
       "3   -14               0    4\n",
       "4   -12               0    4\n",
       "5   -10               0    2\n",
       "6   -10               1    1\n",
       "7    -8               0    1\n",
       "8    -8               1    1\n",
       "9    -6               0    1\n",
       "10   -6               1    1\n",
       "11   -4               1    1\n",
       "12   -2               1    1\n",
       "13    0               1    1\n",
       "14    2               1    1\n",
       "15    4               1    1\n",
       "16    6               1    1\n",
       "17    8               1    1\n",
       "18   10               1    1\n",
       "19   12               1    1\n",
       "20   14               1    1\n",
       "21   16               1    1\n",
       "22   18               1    1\n",
       "23   20               1    1"
      ]
     },
     "execution_count": 13,
     "metadata": {},
     "output_type": "execute_result"
    }
   ],
   "source": [
    "SNR_failed=df_SNR.groupby([\"'SNR'\",\"'Acknoledgement'\"],as_index=False)[\"'ACK/NACK'\"].count()\n",
    "#SNR_failed=pd.DataFrame(SNR_failed);\n",
    "SNR_failed=pd.DataFrame(SNR_failed)\n",
    "SNR_failed.rename(columns={\"'SNR'\":'SNR',\"'Acknoledgement'\":'Acknoledgement',\"'ACK/NACK'\":'ACK'},inplace=True)\n",
    "SNR_failed"
   ]
  },
  {
   "cell_type": "code",
   "execution_count": 24,
   "id": "97d56dec",
   "metadata": {},
   "outputs": [
    {
     "data": {
      "text/html": [
       "<div>\n",
       "<style scoped>\n",
       "    .dataframe tbody tr th:only-of-type {\n",
       "        vertical-align: middle;\n",
       "    }\n",
       "\n",
       "    .dataframe tbody tr th {\n",
       "        vertical-align: top;\n",
       "    }\n",
       "\n",
       "    .dataframe thead th {\n",
       "        text-align: right;\n",
       "    }\n",
       "</style>\n",
       "<table border=\"1\" class=\"dataframe\">\n",
       "  <thead>\n",
       "    <tr style=\"text-align: right;\">\n",
       "      <th></th>\n",
       "      <th>SNR</th>\n",
       "      <th>Acknoledgement</th>\n",
       "      <th>ACK</th>\n",
       "    </tr>\n",
       "  </thead>\n",
       "  <tbody>\n",
       "    <tr>\n",
       "      <th>0</th>\n",
       "      <td>-20</td>\n",
       "      <td>0</td>\n",
       "      <td>4</td>\n",
       "    </tr>\n",
       "    <tr>\n",
       "      <th>1</th>\n",
       "      <td>-18</td>\n",
       "      <td>0</td>\n",
       "      <td>4</td>\n",
       "    </tr>\n",
       "    <tr>\n",
       "      <th>2</th>\n",
       "      <td>-16</td>\n",
       "      <td>0</td>\n",
       "      <td>4</td>\n",
       "    </tr>\n",
       "    <tr>\n",
       "      <th>3</th>\n",
       "      <td>-14</td>\n",
       "      <td>0</td>\n",
       "      <td>4</td>\n",
       "    </tr>\n",
       "    <tr>\n",
       "      <th>4</th>\n",
       "      <td>-12</td>\n",
       "      <td>0</td>\n",
       "      <td>4</td>\n",
       "    </tr>\n",
       "    <tr>\n",
       "      <th>5</th>\n",
       "      <td>-10</td>\n",
       "      <td>0</td>\n",
       "      <td>2</td>\n",
       "    </tr>\n",
       "    <tr>\n",
       "      <th>7</th>\n",
       "      <td>-8</td>\n",
       "      <td>0</td>\n",
       "      <td>1</td>\n",
       "    </tr>\n",
       "    <tr>\n",
       "      <th>9</th>\n",
       "      <td>-6</td>\n",
       "      <td>0</td>\n",
       "      <td>1</td>\n",
       "    </tr>\n",
       "  </tbody>\n",
       "</table>\n",
       "</div>"
      ],
      "text/plain": [
       "   SNR  Acknoledgement  ACK\n",
       "0  -20               0    4\n",
       "1  -18               0    4\n",
       "2  -16               0    4\n",
       "3  -14               0    4\n",
       "4  -12               0    4\n",
       "5  -10               0    2\n",
       "7   -8               0    1\n",
       "9   -6               0    1"
      ]
     },
     "execution_count": 24,
     "metadata": {},
     "output_type": "execute_result"
    }
   ],
   "source": [
    "SNRR=SNR_failed.loc[SNR_failed[\"Acknoledgement\"]==0]\n",
    "SNRR\n"
   ]
  },
  {
   "cell_type": "markdown",
   "id": "a4b72059",
   "metadata": {},
   "source": [
    "From the graph below, we can see that as the signal strength increases, the number of failed transmission decreases. which means that the increasing the signal strength will result in successful transmission. This implies that the SNR is one of the factors affecting the feedback, therefore for this reason, we will use the SNR to build our model."
   ]
  },
  {
   "cell_type": "code",
   "execution_count": 27,
   "id": "742bc98a",
   "metadata": {},
   "outputs": [
    {
     "data": {
      "image/png": "[encoded data removed]",
      "text/plain": [
       "<Figure size 432x288 with 1 Axes>"
      ]
     },
     "metadata": {
      "needs_background": "light"
     },
     "output_type": "display_data"
    },
    {
     "data": {
      "text/plain": [
       "<Figure size 216x216 with 0 Axes>"
      ]
     },
     "metadata": {},
     "output_type": "display_data"
    }
   ],
   "source": [
    "plt.bar(SNRR['SNR'],SNRR['ACK'])\n",
    "plt.xlabel('SNR')\n",
    "plt.ylabel('total_failed_transmission')\n",
    "plt.title('total failed transmission based on SNR for each packet to be transmitted')\n",
    "plt.figure(figsize=(3, 3))\n",
    "plt.show()\n"
   ]
  },
  {
   "cell_type": "markdown",
   "id": "7b31cd74",
   "metadata": {},
   "source": [
    "## packet size analysis"
   ]
  },
  {
   "cell_type": "markdown",
   "id": "52e34a18",
   "metadata": {},
   "source": [
    "The table below shows the simulation conducted for different transmissions of different packet size to investigate the effect of the packet size on the feedback. in order to build a model that predicts the feedback based on the packet size."
   ]
  },
  {
   "cell_type": "code",
   "execution_count": 8,
   "id": "586ff2ff",
   "metadata": {},
   "outputs": [
    {
     "data": {
      "text/html": [
       "<div>\n",
       "<style scoped>\n",
       "    .dataframe tbody tr th:only-of-type {\n",
       "        vertical-align: middle;\n",
       "    }\n",
       "\n",
       "    .dataframe tbody tr th {\n",
       "        vertical-align: top;\n",
       "    }\n",
       "\n",
       "    .dataframe thead th {\n",
       "        text-align: right;\n",
       "    }\n",
       "</style>\n",
       "<table border=\"1\" class=\"dataframe\">\n",
       "  <thead>\n",
       "    <tr style=\"text-align: right;\">\n",
       "      <th></th>\n",
       "      <th>'num_of_transmission'</th>\n",
       "      <th>'Initial_transmission'</th>\n",
       "      <th>'retransmission'</th>\n",
       "      <th>'number_of_retransmission'</th>\n",
       "      <th>'transport_block_size'</th>\n",
       "      <th>'bits_to_transmit'</th>\n",
       "      <th>'coded_data'</th>\n",
       "      <th>'modulated_data'</th>\n",
       "      <th>'SNR'</th>\n",
       "      <th>'channel_data'</th>\n",
       "      <th>'demodulated_data'</th>\n",
       "      <th>'decoded_data'</th>\n",
       "      <th>'block_crc'</th>\n",
       "      <th>'Acknoledgement'</th>\n",
       "      <th>'ACK/NACK'</th>\n",
       "    </tr>\n",
       "  </thead>\n",
       "  <tbody>\n",
       "    <tr>\n",
       "      <th>0</th>\n",
       "      <td>1</td>\n",
       "      <td>1</td>\n",
       "      <td>0</td>\n",
       "      <td>0</td>\n",
       "      <td>32</td>\n",
       "      <td>'[1 1 0 1 1 0 0 1 1 1 0 1 1 0 1 0 0 1 1 1 1 0 ...</td>\n",
       "      <td>'''[1 0 1 0 1 0 0 1 1 1 1 0 1 1 1 0 0 1 0 0 1 ...</td>\n",
       "      <td>'''[0.9487+0.3162i -0.9487+0.3162i -0.3162-0.9...</td>\n",
       "      <td>-9</td>\n",
       "      <td>'''[-1.1815+2.3385i -2.5619+0.1306i -6.1839+2....</td>\n",
       "      <td>'''[-1.18146616111501 -2.33848033714211 0.5490...</td>\n",
       "      <td>'[1 1 0 1 1 0 0 1 1 1 0 1 1 0 1 0 0 1 1 1 1 0 ...</td>\n",
       "      <td>False</td>\n",
       "      <td>1</td>\n",
       "      <td>'ACK'</td>\n",
       "    </tr>\n",
       "    <tr>\n",
       "      <th>1</th>\n",
       "      <td>2</td>\n",
       "      <td>1</td>\n",
       "      <td>0</td>\n",
       "      <td>0</td>\n",
       "      <td>64</td>\n",
       "      <td>'''[1 1 1 1 0 0 0 0 1 0 1 1 1 0 0 0 1 1 0 0 0 ...</td>\n",
       "      <td>'''[0 0 1 0 0 0 1 1 0 1 0 1 1 0 0 1 0 0 0 1 0 ...</td>\n",
       "      <td>'''[-0.9487+0.3162i 0.3162+0.3162i 0.9487-0.31...</td>\n",
       "      <td>-9</td>\n",
       "      <td>'''[-0.3209+0.5397i -3.4187-0.7816i 0.6367-1.4...</td>\n",
       "      <td>'''[-0.320934590127423 -0.5397250717625 -0.311...</td>\n",
       "      <td>'''[1 1 1 1 0 0 0 0 1 0 1 1 1 0 0 0 1 1 0 0 0 ...</td>\n",
       "      <td>False</td>\n",
       "      <td>1</td>\n",
       "      <td>'ACK'</td>\n",
       "    </tr>\n",
       "    <tr>\n",
       "      <th>2</th>\n",
       "      <td>3</td>\n",
       "      <td>1</td>\n",
       "      <td>0</td>\n",
       "      <td>0</td>\n",
       "      <td>128</td>\n",
       "      <td>'''[1 0 0 0 0 0 0 1 0 0 1 1 1 1 1 0 1 0 0 0 0 ...</td>\n",
       "      <td>'''[0 0 1 0 0 0 1 1 0 1 1 1 1 0 1 1 0 0 0 0 0 ...</td>\n",
       "      <td>'''[-0.9487+0.3162i 0.3162+0.3162i 0.3162-0.31...</td>\n",
       "      <td>-9</td>\n",
       "      <td>'''[-0.1331+4.13i -0.6172-3.6598i 1.9686-3.629...</td>\n",
       "      <td>'''[-0.133146714059411 -4.12996137586337 -0.49...</td>\n",
       "      <td>'''[1 0 0 0 0 0 0 1 0 0 1 1 1 1 1 0 1 0 0 0 0 ...</td>\n",
       "      <td>False</td>\n",
       "      <td>1</td>\n",
       "      <td>'ACK'</td>\n",
       "    </tr>\n",
       "    <tr>\n",
       "      <th>3</th>\n",
       "      <td>4</td>\n",
       "      <td>1</td>\n",
       "      <td>0</td>\n",
       "      <td>0</td>\n",
       "      <td>256</td>\n",
       "      <td>'''[1 1 0 1 1 0 0 1 1 0 1 0 1 0 1 1 1 1 0 0 0 ...</td>\n",
       "      <td>'''[1 0 1 1 0 0 1 1 1 0 1 0 0 0 1 0 1 1 1 0 1 ...</td>\n",
       "      <td>'''[0.9487+0.9487i 0.3162+0.3162i -0.3162+0.94...</td>\n",
       "      <td>-9</td>\n",
       "      <td>'''[1.288-0.9097i -1.8453+3.9351i -0.2124-0.29...</td>\n",
       "      <td>'''[1.2880147322365 0.909689937575074 0.655559...</td>\n",
       "      <td>'''[1 1 0 1 1 0 0 1 1 0 1 0 1 0 1 1 1 1 0 0 0 ...</td>\n",
       "      <td>False</td>\n",
       "      <td>1</td>\n",
       "      <td>'ACK'</td>\n",
       "    </tr>\n",
       "    <tr>\n",
       "      <th>4</th>\n",
       "      <td>5</td>\n",
       "      <td>1</td>\n",
       "      <td>0</td>\n",
       "      <td>0</td>\n",
       "      <td>512</td>\n",
       "      <td>'''[0 1 0 1 1 1 1 0 1 0 0 0 0 1 0 0 0 1 1 0 0 ...</td>\n",
       "      <td>'''[1 1 1 1 0 1 0 0 0 0 0 0 0 0 1 1 0 0 0 1 1 ...</td>\n",
       "      <td>'''[0.9487-0.9487i 0.9487-0.9487i 0.9487+0.948...</td>\n",
       "      <td>-9</td>\n",
       "      <td>'''[0.8841-4.9089i -0.4252-1.5022i 0.1139+2.84...</td>\n",
       "      <td>'''[0.884084652021694 4.90889057393489 0.25162...</td>\n",
       "      <td>'''[0 1 0 0 1 0 1 1 1 1 1 0 0 1 0 0 0 1 1 1 0 ...</td>\n",
       "      <td>True</td>\n",
       "      <td>0</td>\n",
       "      <td>'NACK'</td>\n",
       "    </tr>\n",
       "    <tr>\n",
       "      <th>5</th>\n",
       "      <td>5</td>\n",
       "      <td>0</td>\n",
       "      <td>1</td>\n",
       "      <td>1</td>\n",
       "      <td>512</td>\n",
       "      <td>'''[0 1 0 1 1 1 1 0 1 0 0 0 0 1 0 0 0 1 1 0 0 ...</td>\n",
       "      <td>'''[0 0 1 0 1 0 0 0 0 0 1 1 1 0 0 0 0 1 1 0 1 ...</td>\n",
       "      <td>'''[-0.9487+0.3162i -0.9487+0.9487i 0.3162+0.3...</td>\n",
       "      <td>-9</td>\n",
       "      <td>'''[-0.9047+3.569i 0.0776+0.9695i 2.9933-1.586...</td>\n",
       "      <td>'''[-0.904697045859391 -3.56903531543335 0.272...</td>\n",
       "      <td>'''[0 1 0 1 1 1 1 0 1 0 0 0 0 1 0 0 0 1 1 0 0 ...</td>\n",
       "      <td>False</td>\n",
       "      <td>1</td>\n",
       "      <td>'ACK'</td>\n",
       "    </tr>\n",
       "    <tr>\n",
       "      <th>6</th>\n",
       "      <td>6</td>\n",
       "      <td>1</td>\n",
       "      <td>0</td>\n",
       "      <td>0</td>\n",
       "      <td>1024</td>\n",
       "      <td>'''[0 0 1 0 0 0 0 0 0 1 1 0 1 0 0 1 1 1 1 0 1 ...</td>\n",
       "      <td>'''[0 0 1 0 0 1 1 0 0 0 1 0 1 0 1 0 0 0 1 0 0 ...</td>\n",
       "      <td>'''[-0.9487+0.3162i 0.3162-0.9487i 0.3162+0.94...</td>\n",
       "      <td>-9</td>\n",
       "      <td>'''[2.9388+1.7062i 0.3939-7.0136i -1.4389-1.39...</td>\n",
       "      <td>'''[2.93884462056884 -1.70622947708669 2.30638...</td>\n",
       "      <td>'''[1 0 1 0 0 0 0 0 0 1 1 1 0 0 1 1 1 1 1 0 0 ...</td>\n",
       "      <td>True</td>\n",
       "      <td>0</td>\n",
       "      <td>'NACK'</td>\n",
       "    </tr>\n",
       "    <tr>\n",
       "      <th>7</th>\n",
       "      <td>6</td>\n",
       "      <td>0</td>\n",
       "      <td>1</td>\n",
       "      <td>1</td>\n",
       "      <td>1024</td>\n",
       "      <td>'''[0 0 1 0 0 0 0 0 0 1 1 0 1 0 0 1 1 1 1 0 1 ...</td>\n",
       "      <td>'''[0 0 1 0 0 1 0 0 1 1 1 0 1 0 0 1 1 0 0 0 1 ...</td>\n",
       "      <td>'''[-0.9487+0.3162i 0.9487-0.9487i -0.3162-0.9...</td>\n",
       "      <td>-9</td>\n",
       "      <td>'''[-1.8219-1.6764i -1.803+0.3947i -1.2355-0.0...</td>\n",
       "      <td>'''[-1.8219465235569 1.67639316401387 1.189490...</td>\n",
       "      <td>'''[1 0 1 1 0 0 1 0 1 1 1 0 1 1 0 1 1 1 1 0 1 ...</td>\n",
       "      <td>True</td>\n",
       "      <td>0</td>\n",
       "      <td>'NACK'</td>\n",
       "    </tr>\n",
       "    <tr>\n",
       "      <th>8</th>\n",
       "      <td>6</td>\n",
       "      <td>0</td>\n",
       "      <td>1</td>\n",
       "      <td>2</td>\n",
       "      <td>1024</td>\n",
       "      <td>'''[0 0 1 0 0 0 0 0 0 1 1 0 1 0 0 1 1 1 1 0 1 ...</td>\n",
       "      <td>'''[1 1 0 1 0 1 1 1 1 1 0 1 1 1 1 1 0 1 0 1 0 ...</td>\n",
       "      <td>'''[0.3162-0.9487i 0.3162-0.3162i -0.9487-0.31...</td>\n",
       "      <td>-9</td>\n",
       "      <td>'''[4.0525+0.4278i -1.0783-2.8591i -1.2674-0.4...</td>\n",
       "      <td>'''[4.05245435168119 -0.427808482829987 3.4199...</td>\n",
       "      <td>'''[0 1 0 1 0 0 0 0 0 1 1 0 1 0 0 1 1 1 1 0 1 ...</td>\n",
       "      <td>True</td>\n",
       "      <td>0</td>\n",
       "      <td>'NACK'</td>\n",
       "    </tr>\n",
       "    <tr>\n",
       "      <th>9</th>\n",
       "      <td>6</td>\n",
       "      <td>0</td>\n",
       "      <td>1</td>\n",
       "      <td>3</td>\n",
       "      <td>1024</td>\n",
       "      <td>'''[0 0 1 0 0 0 0 0 0 1 1 0 1 0 0 1 1 1 1 0 1 ...</td>\n",
       "      <td>'''[1 0 1 0 1 0 1 1 1 1 0 1 1 1 0 0 0 1 0 1 1 ...</td>\n",
       "      <td>'''[0.9487+0.3162i -0.3162+0.3162i -0.9487-0.3...</td>\n",
       "      <td>-9</td>\n",
       "      <td>'''[-1.0725-0.6455i 0.4338+2.5165i -0.781-1.95...</td>\n",
       "      <td>'''[-1.07252728136286 0.645534404983233 0.4400...</td>\n",
       "      <td>'''[0 0 1 0 0 0 0 0 0 1 1 0 1 0 0 1 1 1 1 0 1 ...</td>\n",
       "      <td>False</td>\n",
       "      <td>1</td>\n",
       "      <td>'ACK'</td>\n",
       "    </tr>\n",
       "    <tr>\n",
       "      <th>10</th>\n",
       "      <td>7</td>\n",
       "      <td>1</td>\n",
       "      <td>0</td>\n",
       "      <td>0</td>\n",
       "      <td>2048</td>\n",
       "      <td>'''[0 1 1 1 1 1 1 0 0 0 1 1 0 1 1 1 0 0 0 1 0 ...</td>\n",
       "      <td>'''[1 0 1 0 1 1 1 0 1 0 0 1 1 0 1 0 1 0 1 0 1 ...</td>\n",
       "      <td>'''[0.9487+0.3162i -0.3162-0.9487i -0.9487+0.3...</td>\n",
       "      <td>-9</td>\n",
       "      <td>'''[1.3417+1.3952i 1.1803-1.725i -4.2401+1.092...</td>\n",
       "      <td>'''[1.34167587203154 -1.39517587590745 0.70922...</td>\n",
       "      <td>'''[1 0 0 0 1 1 0 1 0 1 0 0 0 0 1 0 1 0 1 0 1 ...</td>\n",
       "      <td>True</td>\n",
       "      <td>0</td>\n",
       "      <td>'NACK'</td>\n",
       "    </tr>\n",
       "    <tr>\n",
       "      <th>11</th>\n",
       "      <td>7</td>\n",
       "      <td>0</td>\n",
       "      <td>1</td>\n",
       "      <td>1</td>\n",
       "      <td>2048</td>\n",
       "      <td>'''[0 1 1 1 1 1 1 0 0 0 1 1 0 1 1 1 0 0 0 1 0 ...</td>\n",
       "      <td>'''[0 0 0 0 0 1 0 0 1 0 1 0 0 1 1 0 0 1 0 1 0 ...</td>\n",
       "      <td>'''[-0.3162+0.3162i 0.9487-0.9487i -0.3162+0.9...</td>\n",
       "      <td>-9</td>\n",
       "      <td>'''[2.4019+2.9421i 3.352-0.4734i -0.4692+1.898...</td>\n",
       "      <td>'''[2.40191838551256 -2.94205535108808 1.76946...</td>\n",
       "      <td>'''[1 0 0 1 1 1 0 0 0 1 1 0 1 0 1 0 0 0 0 1 1 ...</td>\n",
       "      <td>True</td>\n",
       "      <td>0</td>\n",
       "      <td>'NACK'</td>\n",
       "    </tr>\n",
       "    <tr>\n",
       "      <th>12</th>\n",
       "      <td>7</td>\n",
       "      <td>0</td>\n",
       "      <td>1</td>\n",
       "      <td>2</td>\n",
       "      <td>2048</td>\n",
       "      <td>'''[0 1 1 1 1 1 1 0 0 0 1 1 0 1 1 1 0 0 0 1 0 ...</td>\n",
       "      <td>'''[0 1 0 1 1 1 0 0 1 0 1 1 0 0 0 1 0 0 1 0 1 ...</td>\n",
       "      <td>'''[-0.3162-0.9487i -0.9487-0.9487i -0.3162+0....</td>\n",
       "      <td>-9</td>\n",
       "      <td>'''[1.9396-1.2199i 1.4993+0.4719i 0.0239-1.106...</td>\n",
       "      <td>'''[1.93955936885775 1.21991657680477 1.307103...</td>\n",
       "      <td>'''[1 1 0 0 1 1 1 1 1 1 1 1 0 0 1 1 1 0 0 0 1 ...</td>\n",
       "      <td>True</td>\n",
       "      <td>0</td>\n",
       "      <td>'NACK'</td>\n",
       "    </tr>\n",
       "    <tr>\n",
       "      <th>13</th>\n",
       "      <td>7</td>\n",
       "      <td>0</td>\n",
       "      <td>1</td>\n",
       "      <td>3</td>\n",
       "      <td>2048</td>\n",
       "      <td>'''[0 1 1 1 1 1 1 0 0 0 1 1 0 1 1 1 0 0 0 1 0 ...</td>\n",
       "      <td>'''[0 0 0 1 0 1 1 0 1 1 0 0 1 1 0 1 0 1 0 1 0 ...</td>\n",
       "      <td>'''[-0.3162+0.9487i 0.3162-0.9487i -0.9487-0.9...</td>\n",
       "      <td>-9</td>\n",
       "      <td>'''[-0.4189+0.3545i -0.534+1.4653i 0.7944-2.01...</td>\n",
       "      <td>'''[-0.418923489997486 -0.354549169906656 -0.2...</td>\n",
       "      <td>'''[1 0 1 1 1 1 1 0 0 1 1 1 0 1 1 1 1 0 0 0 0 ...</td>\n",
       "      <td>True</td>\n",
       "      <td>0</td>\n",
       "      <td>'TIMEOUT'</td>\n",
       "    </tr>\n",
       "  </tbody>\n",
       "</table>\n",
       "</div>"
      ],
      "text/plain": [
       "    'num_of_transmission'  'Initial_transmission'  'retransmission'  \\\n",
       "0                       1                       1                 0   \n",
       "1                       2                       1                 0   \n",
       "2                       3                       1                 0   \n",
       "3                       4                       1                 0   \n",
       "4                       5                       1                 0   \n",
       "5                       5                       0                 1   \n",
       "6                       6                       1                 0   \n",
       "7                       6                       0                 1   \n",
       "8                       6                       0                 1   \n",
       "9                       6                       0                 1   \n",
       "10                      7                       1                 0   \n",
       "11                      7                       0                 1   \n",
       "12                      7                       0                 1   \n",
       "13                      7                       0                 1   \n",
       "\n",
       "    'number_of_retransmission'  'transport_block_size'  \\\n",
       "0                            0                      32   \n",
       "1                            0                      64   \n",
       "2                            0                     128   \n",
       "3                            0                     256   \n",
       "4                            0                     512   \n",
       "5                            1                     512   \n",
       "6                            0                    1024   \n",
       "7                            1                    1024   \n",
       "8                            2                    1024   \n",
       "9                            3                    1024   \n",
       "10                           0                    2048   \n",
       "11                           1                    2048   \n",
       "12                           2                    2048   \n",
       "13                           3                    2048   \n",
       "\n",
       "                                   'bits_to_transmit'  \\\n",
       "0   '[1 1 0 1 1 0 0 1 1 1 0 1 1 0 1 0 0 1 1 1 1 0 ...   \n",
       "1   '''[1 1 1 1 0 0 0 0 1 0 1 1 1 0 0 0 1 1 0 0 0 ...   \n",
       "2   '''[1 0 0 0 0 0 0 1 0 0 1 1 1 1 1 0 1 0 0 0 0 ...   \n",
       "3   '''[1 1 0 1 1 0 0 1 1 0 1 0 1 0 1 1 1 1 0 0 0 ...   \n",
       "4   '''[0 1 0 1 1 1 1 0 1 0 0 0 0 1 0 0 0 1 1 0 0 ...   \n",
       "5   '''[0 1 0 1 1 1 1 0 1 0 0 0 0 1 0 0 0 1 1 0 0 ...   \n",
       "6   '''[0 0 1 0 0 0 0 0 0 1 1 0 1 0 0 1 1 1 1 0 1 ...   \n",
       "7   '''[0 0 1 0 0 0 0 0 0 1 1 0 1 0 0 1 1 1 1 0 1 ...   \n",
       "8   '''[0 0 1 0 0 0 0 0 0 1 1 0 1 0 0 1 1 1 1 0 1 ...   \n",
       "9   '''[0 0 1 0 0 0 0 0 0 1 1 0 1 0 0 1 1 1 1 0 1 ...   \n",
       "10  '''[0 1 1 1 1 1 1 0 0 0 1 1 0 1 1 1 0 0 0 1 0 ...   \n",
       "11  '''[0 1 1 1 1 1 1 0 0 0 1 1 0 1 1 1 0 0 0 1 0 ...   \n",
       "12  '''[0 1 1 1 1 1 1 0 0 0 1 1 0 1 1 1 0 0 0 1 0 ...   \n",
       "13  '''[0 1 1 1 1 1 1 0 0 0 1 1 0 1 1 1 0 0 0 1 0 ...   \n",
       "\n",
       "                                         'coded_data'  \\\n",
       "0   '''[1 0 1 0 1 0 0 1 1 1 1 0 1 1 1 0 0 1 0 0 1 ...   \n",
       "1   '''[0 0 1 0 0 0 1 1 0 1 0 1 1 0 0 1 0 0 0 1 0 ...   \n",
       "2   '''[0 0 1 0 0 0 1 1 0 1 1 1 1 0 1 1 0 0 0 0 0 ...   \n",
       "3   '''[1 0 1 1 0 0 1 1 1 0 1 0 0 0 1 0 1 1 1 0 1 ...   \n",
       "4   '''[1 1 1 1 0 1 0 0 0 0 0 0 0 0 1 1 0 0 0 1 1 ...   \n",
       "5   '''[0 0 1 0 1 0 0 0 0 0 1 1 1 0 0 0 0 1 1 0 1 ...   \n",
       "6   '''[0 0 1 0 0 1 1 0 0 0 1 0 1 0 1 0 0 0 1 0 0 ...   \n",
       "7   '''[0 0 1 0 0 1 0 0 1 1 1 0 1 0 0 1 1 0 0 0 1 ...   \n",
       "8   '''[1 1 0 1 0 1 1 1 1 1 0 1 1 1 1 1 0 1 0 1 0 ...   \n",
       "9   '''[1 0 1 0 1 0 1 1 1 1 0 1 1 1 0 0 0 1 0 1 1 ...   \n",
       "10  '''[1 0 1 0 1 1 1 0 1 0 0 1 1 0 1 0 1 0 1 0 1 ...   \n",
       "11  '''[0 0 0 0 0 1 0 0 1 0 1 0 0 1 1 0 0 1 0 1 0 ...   \n",
       "12  '''[0 1 0 1 1 1 0 0 1 0 1 1 0 0 0 1 0 0 1 0 1 ...   \n",
       "13  '''[0 0 0 1 0 1 1 0 1 1 0 0 1 1 0 1 0 1 0 1 0 ...   \n",
       "\n",
       "                                     'modulated_data'  'SNR'  \\\n",
       "0   '''[0.9487+0.3162i -0.9487+0.3162i -0.3162-0.9...     -9   \n",
       "1   '''[-0.9487+0.3162i 0.3162+0.3162i 0.9487-0.31...     -9   \n",
       "2   '''[-0.9487+0.3162i 0.3162+0.3162i 0.3162-0.31...     -9   \n",
       "3   '''[0.9487+0.9487i 0.3162+0.3162i -0.3162+0.94...     -9   \n",
       "4   '''[0.9487-0.9487i 0.9487-0.9487i 0.9487+0.948...     -9   \n",
       "5   '''[-0.9487+0.3162i -0.9487+0.9487i 0.3162+0.3...     -9   \n",
       "6   '''[-0.9487+0.3162i 0.3162-0.9487i 0.3162+0.94...     -9   \n",
       "7   '''[-0.9487+0.3162i 0.9487-0.9487i -0.3162-0.9...     -9   \n",
       "8   '''[0.3162-0.9487i 0.3162-0.3162i -0.9487-0.31...     -9   \n",
       "9   '''[0.9487+0.3162i -0.3162+0.3162i -0.9487-0.3...     -9   \n",
       "10  '''[0.9487+0.3162i -0.3162-0.9487i -0.9487+0.3...     -9   \n",
       "11  '''[-0.3162+0.3162i 0.9487-0.9487i -0.3162+0.9...     -9   \n",
       "12  '''[-0.3162-0.9487i -0.9487-0.9487i -0.3162+0....     -9   \n",
       "13  '''[-0.3162+0.9487i 0.3162-0.9487i -0.9487-0.9...     -9   \n",
       "\n",
       "                                       'channel_data'  \\\n",
       "0   '''[-1.1815+2.3385i -2.5619+0.1306i -6.1839+2....   \n",
       "1   '''[-0.3209+0.5397i -3.4187-0.7816i 0.6367-1.4...   \n",
       "2   '''[-0.1331+4.13i -0.6172-3.6598i 1.9686-3.629...   \n",
       "3   '''[1.288-0.9097i -1.8453+3.9351i -0.2124-0.29...   \n",
       "4   '''[0.8841-4.9089i -0.4252-1.5022i 0.1139+2.84...   \n",
       "5   '''[-0.9047+3.569i 0.0776+0.9695i 2.9933-1.586...   \n",
       "6   '''[2.9388+1.7062i 0.3939-7.0136i -1.4389-1.39...   \n",
       "7   '''[-1.8219-1.6764i -1.803+0.3947i -1.2355-0.0...   \n",
       "8   '''[4.0525+0.4278i -1.0783-2.8591i -1.2674-0.4...   \n",
       "9   '''[-1.0725-0.6455i 0.4338+2.5165i -0.781-1.95...   \n",
       "10  '''[1.3417+1.3952i 1.1803-1.725i -4.2401+1.092...   \n",
       "11  '''[2.4019+2.9421i 3.352-0.4734i -0.4692+1.898...   \n",
       "12  '''[1.9396-1.2199i 1.4993+0.4719i 0.0239-1.106...   \n",
       "13  '''[-0.4189+0.3545i -0.534+1.4653i 0.7944-2.01...   \n",
       "\n",
       "                                   'demodulated_data'  \\\n",
       "0   '''[-1.18146616111501 -2.33848033714211 0.5490...   \n",
       "1   '''[-0.320934590127423 -0.5397250717625 -0.311...   \n",
       "2   '''[-0.133146714059411 -4.12996137586337 -0.49...   \n",
       "3   '''[1.2880147322365 0.909689937575074 0.655559...   \n",
       "4   '''[0.884084652021694 4.90889057393489 0.25162...   \n",
       "5   '''[-0.904697045859391 -3.56903531543335 0.272...   \n",
       "6   '''[2.93884462056884 -1.70622947708669 2.30638...   \n",
       "7   '''[-1.8219465235569 1.67639316401387 1.189490...   \n",
       "8   '''[4.05245435168119 -0.427808482829987 3.4199...   \n",
       "9   '''[-1.07252728136286 0.645534404983233 0.4400...   \n",
       "10  '''[1.34167587203154 -1.39517587590745 0.70922...   \n",
       "11  '''[2.40191838551256 -2.94205535108808 1.76946...   \n",
       "12  '''[1.93955936885775 1.21991657680477 1.307103...   \n",
       "13  '''[-0.418923489997486 -0.354549169906656 -0.2...   \n",
       "\n",
       "                                       'decoded_data'  'block_crc'  \\\n",
       "0   '[1 1 0 1 1 0 0 1 1 1 0 1 1 0 1 0 0 1 1 1 1 0 ...        False   \n",
       "1   '''[1 1 1 1 0 0 0 0 1 0 1 1 1 0 0 0 1 1 0 0 0 ...        False   \n",
       "2   '''[1 0 0 0 0 0 0 1 0 0 1 1 1 1 1 0 1 0 0 0 0 ...        False   \n",
       "3   '''[1 1 0 1 1 0 0 1 1 0 1 0 1 0 1 1 1 1 0 0 0 ...        False   \n",
       "4   '''[0 1 0 0 1 0 1 1 1 1 1 0 0 1 0 0 0 1 1 1 0 ...         True   \n",
       "5   '''[0 1 0 1 1 1 1 0 1 0 0 0 0 1 0 0 0 1 1 0 0 ...        False   \n",
       "6   '''[1 0 1 0 0 0 0 0 0 1 1 1 0 0 1 1 1 1 1 0 0 ...         True   \n",
       "7   '''[1 0 1 1 0 0 1 0 1 1 1 0 1 1 0 1 1 1 1 0 1 ...         True   \n",
       "8   '''[0 1 0 1 0 0 0 0 0 1 1 0 1 0 0 1 1 1 1 0 1 ...         True   \n",
       "9   '''[0 0 1 0 0 0 0 0 0 1 1 0 1 0 0 1 1 1 1 0 1 ...        False   \n",
       "10  '''[1 0 0 0 1 1 0 1 0 1 0 0 0 0 1 0 1 0 1 0 1 ...         True   \n",
       "11  '''[1 0 0 1 1 1 0 0 0 1 1 0 1 0 1 0 0 0 0 1 1 ...         True   \n",
       "12  '''[1 1 0 0 1 1 1 1 1 1 1 1 0 0 1 1 1 0 0 0 1 ...         True   \n",
       "13  '''[1 0 1 1 1 1 1 0 0 1 1 1 0 1 1 1 1 0 0 0 0 ...         True   \n",
       "\n",
       "    'Acknoledgement' 'ACK/NACK'  \n",
       "0                  1      'ACK'  \n",
       "1                  1      'ACK'  \n",
       "2                  1      'ACK'  \n",
       "3                  1      'ACK'  \n",
       "4                  0     'NACK'  \n",
       "5                  1      'ACK'  \n",
       "6                  0     'NACK'  \n",
       "7                  0     'NACK'  \n",
       "8                  0     'NACK'  \n",
       "9                  1      'ACK'  \n",
       "10                 0     'NACK'  \n",
       "11                 0     'NACK'  \n",
       "12                 0     'NACK'  \n",
       "13                 0  'TIMEOUT'  "
      ]
     },
     "execution_count": 8,
     "metadata": {},
     "output_type": "execute_result"
    }
   ],
   "source": [
    "packet_df=pd.read_excel(\"packet_size_data_for_simulation.xlsx\");\n",
    "packet_df"
   ]
  },
  {
   "cell_type": "code",
   "execution_count": 51,
   "id": "bb2d0400",
   "metadata": {},
   "outputs": [
    {
     "name": "stderr",
     "output_type": "stream",
     "text": [
      "/tmp/ipykernel_30250/1680607405.py:6: UserWarning: Boolean Series key will be reindexed to match DataFrame index.\n",
      "  packet_df2=packet_df1[packet_df[\"'Acknoledgement'\"]==0]\n"
     ]
    },
    {
     "data": {
      "text/html": [
       "<div>\n",
       "<style scoped>\n",
       "    .dataframe tbody tr th:only-of-type {\n",
       "        vertical-align: middle;\n",
       "    }\n",
       "\n",
       "    .dataframe tbody tr th {\n",
       "        vertical-align: top;\n",
       "    }\n",
       "\n",
       "    .dataframe thead th {\n",
       "        text-align: right;\n",
       "    }\n",
       "</style>\n",
       "<table border=\"1\" class=\"dataframe\">\n",
       "  <thead>\n",
       "    <tr style=\"text-align: right;\">\n",
       "      <th></th>\n",
       "      <th>'transport_block_size'</th>\n",
       "      <th>'Acknoledgement'</th>\n",
       "      <th>'ACK/NACK'</th>\n",
       "    </tr>\n",
       "  </thead>\n",
       "  <tbody>\n",
       "    <tr>\n",
       "      <th>4</th>\n",
       "      <td>512</td>\n",
       "      <td>0</td>\n",
       "      <td>1</td>\n",
       "    </tr>\n",
       "    <tr>\n",
       "      <th>6</th>\n",
       "      <td>1024</td>\n",
       "      <td>0</td>\n",
       "      <td>3</td>\n",
       "    </tr>\n",
       "    <tr>\n",
       "      <th>8</th>\n",
       "      <td>2048</td>\n",
       "      <td>0</td>\n",
       "      <td>4</td>\n",
       "    </tr>\n",
       "  </tbody>\n",
       "</table>\n",
       "</div>"
      ],
      "text/plain": [
       "   'transport_block_size'  'Acknoledgement'  'ACK/NACK'\n",
       "4                     512                 0           1\n",
       "6                    1024                 0           3\n",
       "8                    2048                 0           4"
      ]
     },
     "execution_count": 51,
     "metadata": {},
     "output_type": "execute_result"
    }
   ],
   "source": [
    "packet_df1=packet_df.groupby([\"'transport_block_size'\",\"'Acknoledgement'\"],as_index=False)[\"'ACK/NACK'\"].count()\n",
    "#SNR_failed=pd.DataFrame(SNR_failed);\n",
    "#SNR_failed=pd.DataFrame(SNR_failed)\n",
    "#SNR_failed.rename(columns={\"'SNR'\":'SNR',\"'Acknoledgement'\":'Acknoledgement',\"'ACK/NACK'\":'ACK'},inplace=True)\n",
    "#SNR_failed\n",
    "packet_df2=packet_df1[packet_df[\"'Acknoledgement'\"]==0]\n",
    "\n",
    "\n",
    "\n",
    "\n",
    "packet_df2=packet_df2.drop(packet_df2[packet_df2[\"'Acknoledgement'\"] ==1].index)\n",
    "\n",
    "#packet_df2[\"'Acknoledgement'\"]\n",
    "\n",
    "packet_df2\n"
   ]
  },
  {
   "cell_type": "code",
   "execution_count": 53,
   "metadata": {},
   "outputs": [
    {
     "data": {
      "text/plain": [
       "Text(0.5, 1.0, 'total failed transmission for different packet size')"
      ]
     },
     "execution_count": 53,
     "metadata": {},
     "output_type": "execute_result"
    },
    {
     "data": {
      "image/png": "[encoded data removed]",
      "text/plain": [
       "<Figure size 432x288 with 1 Axes>"
      ]
     },
     "metadata": {
      "needs_background": "light"
     },
     "output_type": "display_data"
    }
   ],
   "source": [
    "plt.plot(packet_df2[\"'transport_block_size'\"],packet_df2[\"'ACK/NACK'\"])\n",
    "plt.xlabel(\"packet size\");\n",
    "plt.ylabel(\"number of failed transmission\")\n",
    "plt.title(\"total failed transmission for different packet size\")"
   ]
  },
  {
   "cell_type": "markdown",
   "id": "374ab3e1",
   "metadata": {},
   "source": [
    "from the picture above, we can see that the packet the number of failed transmission is lower when the packet size is smaller, so this shows that the packet size do affect the the feedback generated at the receiver for each transmission. "
   ]
  },
  {
   "cell_type": "markdown",
   "id": "88dd31a1",
   "metadata": {},
   "source": [
    "# Feature Engineering"
   ]
  },
  {
   "cell_type": "markdown",
   "id": "a8ef7b25",
   "metadata": {},
   "source": [
    "This section prepare and ensure that the data is ready for building the model. firtly we check for the number of nulls in each column   "
   ]
  },
  {
   "cell_type": "markdown",
   "id": "067e5459",
   "metadata": {},
   "source": [
    "From the output of the code below, we can see that our data does not have nulls, therefore, there is no data cleaning required for our project"
   ]
  },
  {
   "cell_type": "code",
   "execution_count": 60,
   "id": "7247fdef",
   "metadata": {},
   "outputs": [
    {
     "data": {
      "text/plain": [
       "'num_of_transmission'         0\n",
       "'Initial_transmission'        0\n",
       "'retransmission'              0\n",
       "'number_of_retransmission'    0\n",
       "'transport_block_size'        0\n",
       "'bits_to_transmit'            0\n",
       "'coded_data'                  0\n",
       "'modulated_data'              0\n",
       "'SNR'                         0\n",
       "'channel_data'                0\n",
       "'demodulated_data'            0\n",
       "'decoded_data'                0\n",
       "'block_crc'                   0\n",
       "'Acknoledgement'              0\n",
       "'ACK/NACK'                    0\n",
       "dtype: int64"
      ]
     },
     "execution_count": 60,
     "metadata": {},
     "output_type": "execute_result"
    }
   ],
   "source": [
    "df.isnull().sum()"
   ]
  },
  {
   "cell_type": "markdown",
   "id": "91a318ff",
   "metadata": {},
   "source": [
    "Since our data is clean, we now split it into training and testing dataset."
   ]
  },
  {
   "cell_type": "code",
   "execution_count": 111,
   "id": "809bee9e",
   "metadata": {},
   "outputs": [],
   "source": [
    "x=df[[\"'retransmission'\",\"'number_of_retransmission'\",\"'transport_block_size'\",\"'SNR'\"]];\n",
    "y=df[[\"'Acknoledgement'\"]]"
   ]
  },
  {
   "cell_type": "code",
   "execution_count": 112,
   "id": "46db267b",
   "metadata": {},
   "outputs": [],
   "source": [
    "y.reset_index(drop=True, inplace=True)"
   ]
  },
  {
   "cell_type": "code",
   "execution_count": 113,
   "id": "543fe7d1",
   "metadata": {},
   "outputs": [],
   "source": [
    "y=y.to_numpy()"
   ]
  },
  {
   "cell_type": "code",
   "execution_count": 131,
   "id": "2177e2c8",
   "metadata": {},
   "outputs": [
    {
     "data": {
      "text/plain": [
       "array([[1],\n",
       "       [1],\n",
       "       [0],\n",
       "       ...,\n",
       "       [0],\n",
       "       [0],\n",
       "       [1]])"
      ]
     },
     "execution_count": 131,
     "metadata": {},
     "output_type": "execute_result"
    }
   ],
   "source": [
    "y"
   ]
  },
  {
   "cell_type": "code",
   "execution_count": 133,
   "id": "291394e3",
   "metadata": {},
   "outputs": [],
   "source": [
    "l=[]\n",
    "for i in y :\n",
    "    l.append(i[0]);"
   ]
  },
  {
   "cell_type": "code",
   "execution_count": 137,
   "id": "818da404",
   "metadata": {},
   "outputs": [],
   "source": [
    "y=l"
   ]
  },
  {
   "cell_type": "code",
   "execution_count": null,
   "id": "32729426",
   "metadata": {},
   "outputs": [],
   "source": []
  },
  {
   "cell_type": "code",
   "execution_count": 138,
   "id": "dca61092",
   "metadata": {},
   "outputs": [],
   "source": [
    "X_train, X_test, y_train, y_test = train_test_split(x,y,test_size=0.20,random_state=1)"
   ]
  },
  {
   "cell_type": "markdown",
   "id": "2e8ffe59",
   "metadata": {},
   "source": [
    "Now our data is clean and is divided into training and testting dataset, which means that we can now build the model."
   ]
  },
  {
   "cell_type": "markdown",
   "id": "45423e66",
   "metadata": {},
   "source": [
    "# Model Building"
   ]
  },
  {
   "cell_type": "markdown",
   "id": "966d00a2",
   "metadata": {},
   "source": [
    "### Logistic Regression"
   ]
  },
  {
   "cell_type": "markdown",
   "id": "64992513",
   "metadata": {},
   "source": [
    "We now create our logistic regression model to predict the feedback for various transmission."
   ]
  },
  {
   "cell_type": "code",
   "execution_count": 144,
   "id": "ab85f1cb",
   "metadata": {},
   "outputs": [],
   "source": [
    "lr= LogisticRegression(random_state = 50)"
   ]
  },
  {
   "cell_type": "code",
   "execution_count": 145,
   "id": "a1058997",
   "metadata": {},
   "outputs": [
    {
     "data": {
      "text/plain": [
       "LogisticRegression(random_state=50)"
      ]
     },
     "execution_count": 145,
     "metadata": {},
     "output_type": "execute_result"
    }
   ],
   "source": [
    "lr.fit(X_train,y_train)"
   ]
  },
  {
   "cell_type": "code",
   "execution_count": 146,
   "id": "a7c0a881",
   "metadata": {},
   "outputs": [],
   "source": [
    "y_pred=lr.predict(X_test)"
   ]
  },
  {
   "cell_type": "code",
   "execution_count": 185,
   "id": "48d7b001",
   "metadata": {},
   "outputs": [],
   "source": [
    "np.sqrt(metrics.mean_squared_error(y_test, y_pred))"
   ]
  },
  {
   "cell_type": "code",
   "execution_count": 186,
   "id": "f0f8da8f",
   "metadata": {},
   "outputs": [],
   "source": [
    "f1_lr=f1_score(y_test, y_pred, average='macro')"
   ]
  },
  {
   "cell_type": "markdown",
   "id": "c6e97ef1",
   "metadata": {},
   "source": [
    "### Random forest classifier"
   ]
  },
  {
   "cell_type": "code",
   "execution_count": 219,
   "id": "4f1f5fd0",
   "metadata": {},
   "outputs": [],
   "source": [
    "rf=RandomForestClassifier(n_estimators=100,max_depth=10, random_state=100)"
   ]
  },
  {
   "cell_type": "code",
   "execution_count": 220,
   "id": "9d9d58a1",
   "metadata": {},
   "outputs": [
    {
     "data": {
      "text/plain": [
       "RandomForestClassifier(max_depth=10, random_state=100)"
      ]
     },
     "execution_count": 220,
     "metadata": {},
     "output_type": "execute_result"
    }
   ],
   "source": [
    "rf.fit(X_train,y_train)"
   ]
  },
  {
   "cell_type": "code",
   "execution_count": 221,
   "id": "8250cbf1",
   "metadata": {},
   "outputs": [],
   "source": [
    "y_pred_rf=rf.predict(X_test)"
   ]
  },
  {
   "cell_type": "code",
   "execution_count": 222,
   "id": "73342b32",
   "metadata": {},
   "outputs": [
    {
     "data": {
      "text/plain": [
       "0.18726885356961243"
      ]
     },
     "execution_count": 222,
     "metadata": {},
     "output_type": "execute_result"
    }
   ],
   "source": [
    "np.sqrt(metrics.mean_squared_error(y_test, y_pred_rf))"
   ]
  },
  {
   "cell_type": "code",
   "execution_count": 223,
   "id": "eca2aae7",
   "metadata": {},
   "outputs": [
    {
     "data": {
      "text/plain": [
       "0.9647744638105518"
      ]
     },
     "execution_count": 223,
     "metadata": {},
     "output_type": "execute_result"
    }
   ],
   "source": [
    "f1_rf=f1_score(y_test, y_pred_rf, average='macro')\n",
    "f1_rf"
   ]
  },
  {
   "cell_type": "markdown",
   "id": "2e00abff",
   "metadata": {},
   "source": [
    "### Support vector machine"
   ]
  },
  {
   "cell_type": "code",
   "execution_count": 224,
   "id": "c473f66b",
   "metadata": {},
   "outputs": [
    {
     "ename": "AttributeError",
     "evalue": "'SVC' object has no attribute 'SVC'",
     "output_type": "error",
     "traceback": [
      "\u001b[0;31m---------------------------------------------------------------------------\u001b[0m",
      "\u001b[0;31mAttributeError\u001b[0m                            Traceback (most recent call last)",
      "\u001b[1;32m/home/mahhembe/Documents/GitHub/Research-project/Research_model_building.ipynb Cell 67'\u001b[0m in \u001b[0;36m<cell line: 1>\u001b[0;34m()\u001b[0m\n\u001b[0;32m----> <a href='vscode-notebook-cell:/home/mahhembe/Documents/GitHub/Research-project/Research_model_building.ipynb#ch0000072?line=0'>1</a>\u001b[0m svm\u001b[39m=\u001b[39m svm\u001b[39m.\u001b[39;49mSVC()\n",
      "\u001b[0;31mAttributeError\u001b[0m: 'SVC' object has no attribute 'SVC'"
     ]
    }
   ],
   "source": [
    "svm= svm.SVC()"
   ]
  },
  {
   "cell_type": "code",
   "execution_count": 213,
   "id": "2d332c03",
   "metadata": {},
   "outputs": [],
   "source": [
    "svm.fit(X_train,y_train);"
   ]
  },
  {
   "cell_type": "code",
   "execution_count": 214,
   "id": "d88eab9f",
   "metadata": {},
   "outputs": [],
   "source": [
    "y_pred_svm=svm.predict(X_test)"
   ]
  },
  {
   "cell_type": "code",
   "execution_count": 215,
   "id": "a89f4375",
   "metadata": {},
   "outputs": [
    {
     "data": {
      "text/plain": [
       "0.30213269782736435"
      ]
     },
     "execution_count": 215,
     "metadata": {},
     "output_type": "execute_result"
    }
   ],
   "source": [
    "np.sqrt(metrics.mean_squared_error(y_test, y_pred_svm))"
   ]
  },
  {
   "cell_type": "code",
   "execution_count": 216,
   "id": "cb68a70a",
   "metadata": {},
   "outputs": [],
   "source": [
    "f1_svm=f1_score(y_test, y_pred_svm, average='macro')"
   ]
  },
  {
   "cell_type": "markdown",
   "id": "cc8c24e4",
   "metadata": {},
   "source": [
    "# model evaluation"
   ]
  },
  {
   "cell_type": "code",
   "execution_count": 225,
   "id": "46dc6c0f",
   "metadata": {},
   "outputs": [
    {
     "data": {
      "text/plain": [
       "<BarContainer object of 3 artists>"
      ]
     },
     "execution_count": 225,
     "metadata": {},
     "output_type": "execute_result"
    },
    {
     "data": {
      "image/png": "[encoded data removed]",
      "text/plain": [
       "<Figure size 432x288 with 1 Axes>"
      ]
     },
     "metadata": {
      "needs_background": "light"
     },
     "output_type": "display_data"
    }
   ],
   "source": [
    "x=[f1_lr,f1_rf,f1_svm];\n",
    "y=['Logistic_regression','Random_forest','Support_vector_machine']\n",
    "plt.xlabel('machine learning algorithm')\n",
    "plt.ylabel('f1_score')\n",
    "plt.title('f1_score vs machine learning algorithm')\n",
    "plt.bar(y,x)"
   ]
  },
  {
   "cell_type": "markdown",
   "id": "30d138ed",
   "metadata": {},
   "source": [
    "the graph above shows the f1_score of the machine learning algorithms developed, and from the results we can see that the logistic regression algorithm have the highest f1_score which means that it has the higher prediction accuracy, therefore for this reason, our study will use the logistic regression"
   ]
  },
  {
   "cell_type": "markdown",
   "id": "eefcb5d2",
   "metadata": {},
   "source": [
    "# Model Saving"
   ]
  },
  {
   "cell_type": "markdown",
   "id": "dd59c47c",
   "metadata": {},
   "source": [
    "### saving the logistic regression model"
   ]
  },
  {
   "cell_type": "code",
   "execution_count": 232,
   "id": "41d71fd3",
   "metadata": {},
   "outputs": [],
   "source": [
    "#saving  the logistic regression model to the pickle file\n",
    "pickle.dump(lr, open('lr_model.pkl', 'wb'))"
   ]
  }
 ],
 "metadata": {
  "kernelspec": {
   "display_name": "Python 3 (ipykernel)",
   "language": "python",
   "name": "python3"
  },
  "language_info": {
   "codemirror_mode": {
    "name": "ipython",
    "version": 3
   },
   "file_extension": ".py",
   "mimetype": "text/x-python",
   "name": "python",
   "nbconvert_exporter": "python",
   "pygments_lexer": "ipython3",
   "version": "3.8.10"
  }
 },
 "nbformat": 4,
 "nbformat_minor": 5
}
